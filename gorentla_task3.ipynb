{
 "cells": [
  {
   "cell_type": "markdown",
   "id": "700c0882-87d5-4d38-9859-b539b4ab5129",
   "metadata": {},
   "source": [
    "Priyanka Gorentla created on 02/24/2023\n",
    "Data Analytics Project 7 task 3"
   ]
  },
  {
   "cell_type": "markdown",
   "id": "4ffa5abf-3a03-485c-a419-e9f7708efa44",
   "metadata": {},
   "source": [
    "## 10.16 Intro to Data Science: Time Series and Simple Linear Regression "
   ]
  },
  {
   "cell_type": "code",
   "execution_count": 26,
   "id": "8d77b44c-026f-49ec-9110-d6218f8a2d10",
   "metadata": {},
   "outputs": [],
   "source": [
    "# Enable matplotlib\n",
    "%matplotlib inline"
   ]
  },
  {
   "cell_type": "code",
   "execution_count": 27,
   "id": "81e15ff5-65ba-4d22-a756-7025d3aaa7a5",
   "metadata": {},
   "outputs": [],
   "source": [
    "## We store each Fahrenheit/Celsius pair as a tuple in temps:\n",
    "c = lambda f: 5 / 9 * (f - 32)\n",
    "temps = [(f, c(f)) for f in range(0, 101, 10)]"
   ]
  },
  {
   "cell_type": "code",
   "execution_count": 28,
   "id": "209fb5a0-e573-4151-9cd4-5f913b7b5849",
   "metadata": {},
   "outputs": [
    {
     "data": {
      "image/png": "[encoded data removed]",
      "text/plain": [
       "<Figure size 640x480 with 1 Axes>"
      ]
     },
     "metadata": {},
     "output_type": "display_data"
    }
   ],
   "source": [
    "## use plot method to display the linear relationship between the Fahrenheit and Celsius temperatures\n",
    "import pandas as pd\n",
    "temps_df = pd.DataFrame(temps, columns=['Fahrenheit', 'Celsius'])\n",
    "axes = temps_df.plot(x='Fahrenheit', y='Celsius', style='.-')\n",
    "y_label = axes.set_ylabel('Celsius')\n",
    "    "
   ]
  },
  {
   "cell_type": "markdown",
   "id": "95c9de8a-8583-4d95-8da0-c1fe09371ba2",
   "metadata": {},
   "source": [
    "## Loading the Average High Temperatures into a DataFrame"
   ]
  },
  {
   "cell_type": "code",
   "execution_count": 29,
   "id": "434e9f66-a063-4b64-9fe5-2af4df5470b1",
   "metadata": {},
   "outputs": [],
   "source": [
    "## Load \n",
    "nyc = pd.read_csv('ave_hi_nyc_jan_1895-2018.csv')"
   ]
  },
  {
   "cell_type": "code",
   "execution_count": 30,
   "id": "c659eefe-c497-42c6-bbea-cb4157952bb0",
   "metadata": {},
   "outputs": [
    {
     "data": {
      "text/html": [
       "<div>\n",
       "<style scoped>\n",
       "    .dataframe tbody tr th:only-of-type {\n",
       "        vertical-align: middle;\n",
       "    }\n",
       "\n",
       "    .dataframe tbody tr th {\n",
       "        vertical-align: top;\n",
       "    }\n",
       "\n",
       "    .dataframe thead th {\n",
       "        text-align: right;\n",
       "    }\n",
       "</style>\n",
       "<table border=\"1\" class=\"dataframe\">\n",
       "  <thead>\n",
       "    <tr style=\"text-align: right;\">\n",
       "      <th></th>\n",
       "      <th>Date</th>\n",
       "      <th>Value</th>\n",
       "      <th>Anomaly</th>\n",
       "    </tr>\n",
       "  </thead>\n",
       "  <tbody>\n",
       "    <tr>\n",
       "      <th>0</th>\n",
       "      <td>189501</td>\n",
       "      <td>34.2</td>\n",
       "      <td>-3.2</td>\n",
       "    </tr>\n",
       "    <tr>\n",
       "      <th>1</th>\n",
       "      <td>189601</td>\n",
       "      <td>34.7</td>\n",
       "      <td>-2.7</td>\n",
       "    </tr>\n",
       "    <tr>\n",
       "      <th>2</th>\n",
       "      <td>189701</td>\n",
       "      <td>35.5</td>\n",
       "      <td>-1.9</td>\n",
       "    </tr>\n",
       "    <tr>\n",
       "      <th>3</th>\n",
       "      <td>189801</td>\n",
       "      <td>39.6</td>\n",
       "      <td>2.2</td>\n",
       "    </tr>\n",
       "    <tr>\n",
       "      <th>4</th>\n",
       "      <td>189901</td>\n",
       "      <td>36.4</td>\n",
       "      <td>-1.0</td>\n",
       "    </tr>\n",
       "  </tbody>\n",
       "</table>\n",
       "</div>"
      ],
      "text/plain": [
       "     Date  Value  Anomaly\n",
       "0  189501   34.2     -3.2\n",
       "1  189601   34.7     -2.7\n",
       "2  189701   35.5     -1.9\n",
       "3  189801   39.6      2.2\n",
       "4  189901   36.4     -1.0"
      ]
     },
     "execution_count": 30,
     "metadata": {},
     "output_type": "execute_result"
    }
   ],
   "source": [
    "## Display\n",
    "nyc.head()"
   ]
  },
  {
   "cell_type": "code",
   "execution_count": 32,
   "id": "0f54126f-e8de-4ecf-a54a-247af76f6b64",
   "metadata": {},
   "outputs": [
    {
     "data": {
      "text/html": [
       "<div>\n",
       "<style scoped>\n",
       "    .dataframe tbody tr th:only-of-type {\n",
       "        vertical-align: middle;\n",
       "    }\n",
       "\n",
       "    .dataframe tbody tr th {\n",
       "        vertical-align: top;\n",
       "    }\n",
       "\n",
       "    .dataframe thead th {\n",
       "        text-align: right;\n",
       "    }\n",
       "</style>\n",
       "<table border=\"1\" class=\"dataframe\">\n",
       "  <thead>\n",
       "    <tr style=\"text-align: right;\">\n",
       "      <th></th>\n",
       "      <th>Date</th>\n",
       "      <th>Value</th>\n",
       "      <th>Anomaly</th>\n",
       "    </tr>\n",
       "  </thead>\n",
       "  <tbody>\n",
       "    <tr>\n",
       "      <th>119</th>\n",
       "      <td>201401</td>\n",
       "      <td>35.5</td>\n",
       "      <td>-1.9</td>\n",
       "    </tr>\n",
       "    <tr>\n",
       "      <th>120</th>\n",
       "      <td>201501</td>\n",
       "      <td>36.1</td>\n",
       "      <td>-1.3</td>\n",
       "    </tr>\n",
       "    <tr>\n",
       "      <th>121</th>\n",
       "      <td>201601</td>\n",
       "      <td>40.8</td>\n",
       "      <td>3.4</td>\n",
       "    </tr>\n",
       "    <tr>\n",
       "      <th>122</th>\n",
       "      <td>201701</td>\n",
       "      <td>42.8</td>\n",
       "      <td>5.4</td>\n",
       "    </tr>\n",
       "    <tr>\n",
       "      <th>123</th>\n",
       "      <td>201801</td>\n",
       "      <td>38.7</td>\n",
       "      <td>1.3</td>\n",
       "    </tr>\n",
       "  </tbody>\n",
       "</table>\n",
       "</div>"
      ],
      "text/plain": [
       "       Date  Value  Anomaly\n",
       "119  201401   35.5     -1.9\n",
       "120  201501   36.1     -1.3\n",
       "121  201601   40.8      3.4\n",
       "122  201701   42.8      5.4\n",
       "123  201801   38.7      1.3"
      ]
     },
     "execution_count": 32,
     "metadata": {},
     "output_type": "execute_result"
    }
   ],
   "source": [
    "## Display\n",
    "nyc.tail()"
   ]
  },
  {
   "cell_type": "markdown",
   "id": "8b7340c8-4d36-42c0-b854-d0fe20acce43",
   "metadata": {},
   "source": [
    "## Cleaning the Data"
   ]
  },
  {
   "cell_type": "code",
   "execution_count": 33,
   "id": "5fccf1d0-0ced-47e8-9810-1780980dd9a6",
   "metadata": {},
   "outputs": [
    {
     "data": {
      "text/html": [
       "<div>\n",
       "<style scoped>\n",
       "    .dataframe tbody tr th:only-of-type {\n",
       "        vertical-align: middle;\n",
       "    }\n",
       "\n",
       "    .dataframe tbody tr th {\n",
       "        vertical-align: top;\n",
       "    }\n",
       "\n",
       "    .dataframe thead th {\n",
       "        text-align: right;\n",
       "    }\n",
       "</style>\n",
       "<table border=\"1\" class=\"dataframe\">\n",
       "  <thead>\n",
       "    <tr style=\"text-align: right;\">\n",
       "      <th></th>\n",
       "      <th>Date</th>\n",
       "      <th>Temperature</th>\n",
       "      <th>Anomaly</th>\n",
       "    </tr>\n",
       "  </thead>\n",
       "  <tbody>\n",
       "    <tr>\n",
       "      <th>0</th>\n",
       "      <td>189501</td>\n",
       "      <td>34.2</td>\n",
       "      <td>-3.2</td>\n",
       "    </tr>\n",
       "    <tr>\n",
       "      <th>1</th>\n",
       "      <td>189601</td>\n",
       "      <td>34.7</td>\n",
       "      <td>-2.7</td>\n",
       "    </tr>\n",
       "    <tr>\n",
       "      <th>2</th>\n",
       "      <td>189701</td>\n",
       "      <td>35.5</td>\n",
       "      <td>-1.9</td>\n",
       "    </tr>\n",
       "  </tbody>\n",
       "</table>\n",
       "</div>"
      ],
      "text/plain": [
       "     Date  Temperature  Anomaly\n",
       "0  189501         34.2     -3.2\n",
       "1  189601         34.7     -2.7\n",
       "2  189701         35.5     -1.9"
      ]
     },
     "execution_count": 33,
     "metadata": {},
     "output_type": "execute_result"
    }
   ],
   "source": [
    "## Renaming columns\n",
    "nyc.columns = ['Date', 'Temperature', 'Anomaly']\n",
    "nyc.head(3)"
   ]
  },
  {
   "cell_type": "code",
   "execution_count": 34,
   "id": "38aa401b-8ceb-4183-bf26-840e4f5209af",
   "metadata": {},
   "outputs": [
    {
     "data": {
      "text/plain": [
       "dtype('int64')"
      ]
     },
     "execution_count": 34,
     "metadata": {},
     "output_type": "execute_result"
    }
   ],
   "source": [
    "nyc.Date.dtype"
   ]
  },
  {
   "cell_type": "code",
   "execution_count": 35,
   "id": "fb2ba483-4fff-4c5a-802e-1ed9346cffbc",
   "metadata": {},
   "outputs": [
    {
     "data": {
      "text/html": [
       "<div>\n",
       "<style scoped>\n",
       "    .dataframe tbody tr th:only-of-type {\n",
       "        vertical-align: middle;\n",
       "    }\n",
       "\n",
       "    .dataframe tbody tr th {\n",
       "        vertical-align: top;\n",
       "    }\n",
       "\n",
       "    .dataframe thead th {\n",
       "        text-align: right;\n",
       "    }\n",
       "</style>\n",
       "<table border=\"1\" class=\"dataframe\">\n",
       "  <thead>\n",
       "    <tr style=\"text-align: right;\">\n",
       "      <th></th>\n",
       "      <th>Date</th>\n",
       "      <th>Temperature</th>\n",
       "      <th>Anomaly</th>\n",
       "    </tr>\n",
       "  </thead>\n",
       "  <tbody>\n",
       "    <tr>\n",
       "      <th>0</th>\n",
       "      <td>1895</td>\n",
       "      <td>34.2</td>\n",
       "      <td>-3.2</td>\n",
       "    </tr>\n",
       "    <tr>\n",
       "      <th>1</th>\n",
       "      <td>1896</td>\n",
       "      <td>34.7</td>\n",
       "      <td>-2.7</td>\n",
       "    </tr>\n",
       "    <tr>\n",
       "      <th>2</th>\n",
       "      <td>1897</td>\n",
       "      <td>35.5</td>\n",
       "      <td>-1.9</td>\n",
       "    </tr>\n",
       "  </tbody>\n",
       "</table>\n",
       "</div>"
      ],
      "text/plain": [
       "   Date  Temperature  Anomaly\n",
       "0  1895         34.2     -3.2\n",
       "1  1896         34.7     -2.7\n",
       "2  1897         35.5     -1.9"
      ]
     },
     "execution_count": 35,
     "metadata": {},
     "output_type": "execute_result"
    }
   ],
   "source": [
    " nyc.Date = nyc.Date.floordiv(100)\n",
    "nyc.head(3)"
   ]
  },
  {
   "cell_type": "markdown",
   "id": "6c6c62d7-55f8-4470-82a7-ffb8b61be4a6",
   "metadata": {},
   "source": [
    "## Calculating Basic Descriptive Statistics for the Dataset"
   ]
  },
  {
   "cell_type": "code",
   "execution_count": 36,
   "id": "9bf2a900-179f-482b-9d1b-51f9144c7d79",
   "metadata": {},
   "outputs": [
    {
     "data": {
      "text/plain": [
       "count    124.00\n",
       "mean      37.60\n",
       "std        4.54\n",
       "min       26.10\n",
       "25%       34.58\n",
       "50%       37.60\n",
       "75%       40.60\n",
       "max       47.60\n",
       "Name: Temperature, dtype: float64"
      ]
     },
     "execution_count": 36,
     "metadata": {},
     "output_type": "execute_result"
    }
   ],
   "source": [
    "pd.set_option('display.precision', 2)\n",
    "nyc.Temperature.describe()"
   ]
  },
  {
   "cell_type": "markdown",
   "id": "23a806ac-ea9b-47a8-8e10-143167a0af52",
   "metadata": {},
   "source": [
    "## Forecasting Future January Average High Temperatures"
   ]
  },
  {
   "cell_type": "code",
   "execution_count": 37,
   "id": "e89db8b6-5ab8-4691-86a4-87c661f816f5",
   "metadata": {},
   "outputs": [],
   "source": [
    " from scipy import stats"
   ]
  },
  {
   "cell_type": "code",
   "execution_count": 38,
   "id": "0006d6f9-a583-4985-b6a2-0d824a26a176",
   "metadata": {},
   "outputs": [],
   "source": [
    "linear_regression = stats.linregress(x=nyc.Date,\n",
    "                                         y=nyc.Temperature)"
   ]
  },
  {
   "cell_type": "code",
   "execution_count": 39,
   "id": "c6e23e2b-1e3b-4dbc-8df2-5e163e1ef8df",
   "metadata": {},
   "outputs": [
    {
     "data": {
      "text/plain": [
       "0.014771361132966163"
      ]
     },
     "execution_count": 39,
     "metadata": {},
     "output_type": "execute_result"
    }
   ],
   "source": [
    "linear_regression.slope"
   ]
  },
  {
   "cell_type": "code",
   "execution_count": 40,
   "id": "52a55bcc-33a3-4260-b5b5-5eb3e98670a7",
   "metadata": {},
   "outputs": [
    {
     "data": {
      "text/plain": [
       "8.694993233674289"
      ]
     },
     "execution_count": 40,
     "metadata": {},
     "output_type": "execute_result"
    }
   ],
   "source": [
    "linear_regression.intercept"
   ]
  },
  {
   "cell_type": "code",
   "execution_count": 41,
   "id": "0c612d3b-da54-48c5-8051-e6519694bb96",
   "metadata": {},
   "outputs": [
    {
     "data": {
      "text/plain": [
       "38.51837136113297"
      ]
     },
     "execution_count": 41,
     "metadata": {},
     "output_type": "execute_result"
    }
   ],
   "source": [
    "linear_regression.slope * 2019 + linear_regression.intercept"
   ]
  },
  {
   "cell_type": "code",
   "execution_count": 42,
   "id": "c22d7e44-d39d-4e5a-837b-04ecf0e739ef",
   "metadata": {},
   "outputs": [
    {
     "data": {
      "text/plain": [
       "36.612865774980335"
      ]
     },
     "execution_count": 42,
     "metadata": {},
     "output_type": "execute_result"
    }
   ],
   "source": [
    "linear_regression.slope * 1890 + linear_regression.intercept"
   ]
  },
  {
   "cell_type": "code",
   "execution_count": 43,
   "id": "3fa73351-764a-49ee-a8a3-229c125a814f",
   "metadata": {},
   "outputs": [
    {
     "data": {
      "text/plain": [
       "38.62177088906374"
      ]
     },
     "execution_count": 43,
     "metadata": {},
     "output_type": "execute_result"
    }
   ],
   "source": [
    "linear_regression.slope * 2026 + linear_regression.intercept"
   ]
  },
  {
   "cell_type": "markdown",
   "id": "29562875-944b-4efc-872d-47aa4f8b8c6f",
   "metadata": {},
   "source": [
    "## Plotting the Average High Temperatures and a Regression Line"
   ]
  },
  {
   "cell_type": "code",
   "execution_count": 44,
   "id": "6dea69cf-a3eb-48df-93d0-9ccb064bd3df",
   "metadata": {},
   "outputs": [],
   "source": [
    " import seaborn as sns"
   ]
  },
  {
   "cell_type": "code",
   "execution_count": 45,
   "id": "5b5fa75d-6acf-4a49-a48f-c11b86c5d289",
   "metadata": {},
   "outputs": [],
   "source": [
    "sns.set_style('whitegrid')"
   ]
  },
  {
   "cell_type": "code",
   "execution_count": 50,
   "id": "5917b6ee-ef93-46df-ae1c-729317719e1a",
   "metadata": {},
   "outputs": [
    {
     "data": {
      "image/png": "[encoded data removed]",
      "text/plain": [
       "<Figure size 640x480 with 1 Axes>"
      ]
     },
     "metadata": {},
     "output_type": "display_data"
    }
   ],
   "source": [
    "axes = sns.regplot(x=nyc.Date, y=nyc.Temperature)"
   ]
  },
  {
   "cell_type": "code",
   "execution_count": 49,
   "id": "56064260-b253-4c03-be82-92a600fa4e29",
   "metadata": {},
   "outputs": [
    {
     "data": {
      "text/plain": [
       "(10.0, 70.0)"
      ]
     },
     "execution_count": 49,
     "metadata": {},
     "output_type": "execute_result"
    },
    {
     "data": {
      "image/png": "[encoded data removed]",
      "text/plain": [
       "<Figure size 640x480 with 1 Axes>"
      ]
     },
     "metadata": {},
     "output_type": "display_data"
    }
   ],
   "source": [
    "axes = sns.regplot(x=nyc.Date, y=nyc.Temperature)\n",
    "axes.set_ylim(10, 70)"
   ]
  },
  {
   "cell_type": "markdown",
   "id": "631bd6a1-75d7-4185-a102-22a79aef545e",
   "metadata": {},
   "source": [
    "## Classification with k-Nearest Neighbors and the Digits Dataset-Loading the Dataset"
   ]
  },
  {
   "cell_type": "code",
   "execution_count": 51,
   "id": "e0f9c972-9a2a-4ccc-abc0-4778f28c1172",
   "metadata": {},
   "outputs": [],
   "source": [
    "## load_digits function from the sklearn.datasets module returns a scikit-learn Bunch object\n",
    "from sklearn.datasets import load_digits"
   ]
  },
  {
   "cell_type": "code",
   "execution_count": 52,
   "id": "fa12050e-909a-4bfe-99ba-bb82c6433f6b",
   "metadata": {},
   "outputs": [],
   "source": [
    "digits = load_digits()"
   ]
  },
  {
   "cell_type": "code",
   "execution_count": 53,
   "id": "66a2f99c-d60f-431a-9cca-af37b8bd16d5",
   "metadata": {},
   "outputs": [
    {
     "name": "stdout",
     "output_type": "stream",
     "text": [
      ".. _digits_dataset:\n",
      "\n",
      "Optical recognition of handwritten digits dataset\n",
      "--------------------------------------------------\n",
      "\n",
      "**Data Set Characteristics:**\n",
      "\n",
      "    :Number of Instances: 1797\n",
      "    :Number of Attributes: 64\n",
      "    :Attribute Information: 8x8 image of integer pixels in the range 0..16.\n",
      "    :Missing Attribute Values: None\n",
      "    :Creator: E. Alpaydin (alpaydin '@' boun.edu.tr)\n",
      "    :Date: July; 1998\n",
      "\n",
      "This is a copy of the test set of the UCI ML hand-written digits datasets\n",
      "https://archive.ics.uci.edu/ml/datasets/Optical+Recognition+of+Handwritten+Digits\n",
      "\n",
      "The data set contains images of hand-written digits: 10 classes where\n",
      "each class refers to a digit.\n",
      "\n",
      "Preprocessing programs made available by NIST were used to extract\n",
      "normalized bitmaps of handwritten digits from a preprinted form. From a\n",
      "total of 43 people, 30 contributed to the training set and different 13\n",
      "to the test set. 32x32 bitmaps are divided into nonoverlapping blocks of\n",
      "4x4 and the number of on pixels are counted in each block. This generates\n",
      "an input matrix of 8x8 where each element is an integer in the range\n",
      "0..16. This reduces dimensionality and gives invariance to small\n",
      "distortions.\n",
      "\n",
      "For info on NIST preprocessing routines, see M. D. Garris, J. L. Blue, G.\n",
      "T. Candela, D. L. Dimmick, J. Geist, P. J. Grother, S. A. Janet, and C.\n",
      "L. Wilson, NIST Form-Based Handprint Recognition System, NISTIR 5469,\n",
      "1994.\n",
      "\n",
      ".. topic:: References\n",
      "\n",
      "  - C. Kaynak (1995) Methods of Combining Multiple Classifiers and Their\n",
      "    Applications to Handwritten Digit Recognition, MSc Thesis, Institute of\n",
      "    Graduate Studies in Science and Engineering, Bogazici University.\n",
      "  - E. Alpaydin, C. Kaynak (1998) Cascading Classifiers, Kybernetika.\n",
      "  - Ken Tang and Ponnuthurai N. Suganthan and Xi Yao and A. Kai Qin.\n",
      "    Linear dimensionalityreduction using relevance weighted LDA. School of\n",
      "    Electrical and Electronic Engineering Nanyang Technological University.\n",
      "    2005.\n",
      "  - Claudio Gentile. A New Approximate Maximal Margin Classification\n",
      "    Algorithm. NIPS. 2000.\n",
      "\n"
     ]
    }
   ],
   "source": [
    "## Displaying the Description\n",
    "print(digits.DESCR)"
   ]
  },
  {
   "cell_type": "code",
   "execution_count": 54,
   "id": "e3e00c2d-8d61-4e58-81ac-f07a7e2bfc94",
   "metadata": {},
   "outputs": [
    {
     "data": {
      "text/plain": [
       "array([0, 4, 1, 7, 4, 8, 2, 2, 4, 4, 1, 9, 7, 3, 2, 1, 2, 5])"
      ]
     },
     "execution_count": 54,
     "metadata": {},
     "output_type": "execute_result"
    }
   ],
   "source": [
    "## Checking the Sample and Target Sizes\n",
    "digits.target[::100]"
   ]
  },
  {
   "cell_type": "code",
   "execution_count": 55,
   "id": "faf5729b-667d-4998-a21e-52d99dce419d",
   "metadata": {},
   "outputs": [
    {
     "data": {
      "text/plain": [
       "(1797, 64)"
      ]
     },
     "execution_count": 55,
     "metadata": {},
     "output_type": "execute_result"
    }
   ],
   "source": [
    "digits.data.shape"
   ]
  },
  {
   "cell_type": "code",
   "execution_count": 56,
   "id": "8b37134d-4247-4122-ac42-7a9012063aaa",
   "metadata": {},
   "outputs": [
    {
     "data": {
      "text/plain": [
       "(1797,)"
      ]
     },
     "execution_count": 56,
     "metadata": {},
     "output_type": "execute_result"
    }
   ],
   "source": [
    "digits.target.shape"
   ]
  },
  {
   "cell_type": "code",
   "execution_count": 57,
   "id": "1f8a5f70-8e7b-4557-96f7-968bccb3f570",
   "metadata": {},
   "outputs": [
    {
     "data": {
      "text/plain": [
       "array([[ 0.,  2.,  9., 15., 14.,  9.,  3.,  0.],\n",
       "       [ 0.,  4., 13.,  8.,  9., 16.,  8.,  0.],\n",
       "       [ 0.,  0.,  0.,  6., 14., 15.,  3.,  0.],\n",
       "       [ 0.,  0.,  0., 11., 14.,  2.,  0.,  0.],\n",
       "       [ 0.,  0.,  0.,  2., 15., 11.,  0.,  0.],\n",
       "       [ 0.,  0.,  0.,  0.,  2., 15.,  4.,  0.],\n",
       "       [ 0.,  1.,  5.,  6., 13., 16.,  6.,  0.],\n",
       "       [ 0.,  2., 12., 12., 13., 11.,  0.,  0.]])"
      ]
     },
     "execution_count": 57,
     "metadata": {},
     "output_type": "execute_result"
    }
   ],
   "source": [
    "## A Sample Digit Image\n",
    "digits.images[13]"
   ]
  },
  {
   "cell_type": "code",
   "execution_count": 58,
   "id": "6103f3e8-b2d0-4c39-bdba-bb82561a8671",
   "metadata": {},
   "outputs": [
    {
     "data": {
      "text/plain": [
       "array([ 0.,  2.,  9., 15., 14.,  9.,  3.,  0.,  0.,  4., 13.,  8.,  9.,\n",
       "       16.,  8.,  0.,  0.,  0.,  0.,  6., 14., 15.,  3.,  0.,  0.,  0.,\n",
       "        0., 11., 14.,  2.,  0.,  0.,  0.,  0.,  0.,  2., 15., 11.,  0.,\n",
       "        0.,  0.,  0.,  0.,  0.,  2., 15.,  4.,  0.,  0.,  1.,  5.,  6.,\n",
       "       13., 16.,  6.,  0.,  0.,  2., 12., 12., 13., 11.,  0.,  0.])"
      ]
     },
     "execution_count": 58,
     "metadata": {},
     "output_type": "execute_result"
    }
   ],
   "source": [
    "digits.data[13]"
   ]
  },
  {
   "cell_type": "code",
   "execution_count": 59,
   "id": "2bc16b57-099b-4bf0-99fe-fdd63c29ed8d",
   "metadata": {},
   "outputs": [
    {
     "data": {
      "text/plain": [
       "array([[ 0.,  0.,  8., 16.,  5.,  0.,  0.,  0.],\n",
       "       [ 0.,  1., 13., 11., 16.,  0.,  0.,  0.],\n",
       "       [ 0.,  0., 10.,  0., 13.,  3.,  0.,  0.],\n",
       "       [ 0.,  0.,  3.,  1., 16.,  1.,  0.,  0.],\n",
       "       [ 0.,  0.,  0.,  9., 12.,  0.,  0.,  0.],\n",
       "       [ 0.,  0.,  3., 15.,  5.,  0.,  0.,  0.],\n",
       "       [ 0.,  0., 14., 15.,  8.,  8.,  3.,  0.],\n",
       "       [ 0.,  0.,  7., 12., 12., 12., 13.,  1.]])"
      ]
     },
     "execution_count": 59,
     "metadata": {},
     "output_type": "execute_result"
    }
   ],
   "source": [
    "digits.images[22]"
   ]
  },
  {
   "cell_type": "code",
   "execution_count": 60,
   "id": "6fdf909d-7f23-4943-9aef-14729b297908",
   "metadata": {},
   "outputs": [
    {
     "data": {
      "text/plain": [
       "2"
      ]
     },
     "execution_count": 60,
     "metadata": {},
     "output_type": "execute_result"
    }
   ],
   "source": [
    "digits.target[22]"
   ]
  },
  {
   "cell_type": "markdown",
   "id": "09582f6d-b944-4e5f-b150-f6e1dff9d4e3",
   "metadata": {},
   "source": [
    "## 15.4 Case Study-Time Series and Simple Linear Regression "
   ]
  },
  {
   "cell_type": "markdown",
   "id": "92356dbf-5d9e-41c6-acd1-dfeeffc3fd18",
   "metadata": {},
   "source": [
    "## Loading the Average High Temperatures into a DataFrame"
   ]
  },
  {
   "cell_type": "code",
   "execution_count": 67,
   "id": "f5bd4c12-3ccc-4707-aa5f-dc0a3a926c35",
   "metadata": {},
   "outputs": [
    {
     "data": {
      "text/html": [
       "<div>\n",
       "<style scoped>\n",
       "    .dataframe tbody tr th:only-of-type {\n",
       "        vertical-align: middle;\n",
       "    }\n",
       "\n",
       "    .dataframe tbody tr th {\n",
       "        vertical-align: top;\n",
       "    }\n",
       "\n",
       "    .dataframe thead th {\n",
       "        text-align: right;\n",
       "    }\n",
       "</style>\n",
       "<table border=\"1\" class=\"dataframe\">\n",
       "  <thead>\n",
       "    <tr style=\"text-align: right;\">\n",
       "      <th></th>\n",
       "      <th>Date</th>\n",
       "      <th>Temperature</th>\n",
       "      <th>Anomaly</th>\n",
       "    </tr>\n",
       "  </thead>\n",
       "  <tbody>\n",
       "    <tr>\n",
       "      <th>0</th>\n",
       "      <td>1895</td>\n",
       "      <td>34.2</td>\n",
       "      <td>-3.2</td>\n",
       "    </tr>\n",
       "    <tr>\n",
       "      <th>1</th>\n",
       "      <td>1896</td>\n",
       "      <td>34.7</td>\n",
       "      <td>-2.7</td>\n",
       "    </tr>\n",
       "    <tr>\n",
       "      <th>2</th>\n",
       "      <td>1897</td>\n",
       "      <td>35.5</td>\n",
       "      <td>-1.9</td>\n",
       "    </tr>\n",
       "  </tbody>\n",
       "</table>\n",
       "</div>"
      ],
      "text/plain": [
       "   Date  Temperature  Anomaly\n",
       "0  1895         34.2     -3.2\n",
       "1  1896         34.7     -2.7\n",
       "2  1897         35.5     -1.9"
      ]
     },
     "execution_count": 67,
     "metadata": {},
     "output_type": "execute_result"
    }
   ],
   "source": [
    "import pandas as pd\n",
    "nyc = pd.read_csv('ave_hi_nyc_jan_1895-2018.csv')\n",
    "nyc.columns = ['Date', 'Temperature', 'Anomaly']\n",
    "nyc.Date = nyc.Date.floordiv(100)\n",
    "nyc.head(3)"
   ]
  },
  {
   "cell_type": "markdown",
   "id": "08914cb2-f67f-4a67-a9b8-748f4b329c1b",
   "metadata": {},
   "source": [
    "## Splitting the Data for Training and Testing"
   ]
  },
  {
   "cell_type": "code",
   "execution_count": 68,
   "id": "d04ee07f-f5bc-48b0-bfa8-28291d0a740f",
   "metadata": {},
   "outputs": [],
   "source": [
    "from sklearn.model_selection import train_test_split"
   ]
  },
  {
   "cell_type": "code",
   "execution_count": 69,
   "id": "2a81860a-9aaa-46ce-b98f-3f40c2af9ad5",
   "metadata": {},
   "outputs": [],
   "source": [
    "X_train, X_test, y_train, y_test = train_test_split(\n",
    "    nyc.Date.values.reshape(-1, 1), nyc.Temperature.values, \n",
    "    random_state=11)\n"
   ]
  },
  {
   "cell_type": "code",
   "execution_count": 70,
   "id": "4286519d-f6a4-40e8-9bc4-8602a8c1aa34",
   "metadata": {},
   "outputs": [
    {
     "data": {
      "text/plain": [
       "(93, 1)"
      ]
     },
     "execution_count": 70,
     "metadata": {},
     "output_type": "execute_result"
    }
   ],
   "source": [
    "X_train.shape"
   ]
  },
  {
   "cell_type": "code",
   "execution_count": 71,
   "id": "8264b2af-4728-446e-89af-a2174c0d9233",
   "metadata": {},
   "outputs": [
    {
     "data": {
      "text/plain": [
       "(31, 1)"
      ]
     },
     "execution_count": 71,
     "metadata": {},
     "output_type": "execute_result"
    }
   ],
   "source": [
    "X_test.shape"
   ]
  },
  {
   "cell_type": "markdown",
   "id": "bbb287b6-3629-4996-9f46-a8fdc1354d8e",
   "metadata": {},
   "source": [
    "## Training the Model"
   ]
  },
  {
   "cell_type": "code",
   "execution_count": 74,
   "id": "eb82cc61-10a8-4771-bab4-5b89cc328552",
   "metadata": {},
   "outputs": [],
   "source": [
    "from sklearn.linear_model import LinearRegression\n",
    "linear_regression = LinearRegression()"
   ]
  },
  {
   "cell_type": "code",
   "execution_count": 75,
   "id": "bf2c5fd5-5473-418d-9539-4dfbb875039a",
   "metadata": {},
   "outputs": [
    {
     "data": {
      "text/plain": [
       "LinearRegression()"
      ]
     },
     "execution_count": 75,
     "metadata": {},
     "output_type": "execute_result"
    }
   ],
   "source": [
    "linear_regression.fit(X=X_train, y=y_train)"
   ]
  },
  {
   "cell_type": "code",
   "execution_count": 76,
   "id": "a97eab1a-3de3-4717-ba71-9d3f98fedd06",
   "metadata": {},
   "outputs": [
    {
     "data": {
      "text/plain": [
       "array([0.01939167])"
      ]
     },
     "execution_count": 76,
     "metadata": {},
     "output_type": "execute_result"
    }
   ],
   "source": [
    "# The slope is stored in the estimator’s coeff_ attribute\n",
    "linear_regression.coef_"
   ]
  },
  {
   "cell_type": "code",
   "execution_count": 77,
   "id": "a3b47e0a-964a-4342-9a2c-eb2cf7e27af6",
   "metadata": {},
   "outputs": [
    {
     "data": {
      "text/plain": [
       "-0.30779820252656265"
      ]
     },
     "execution_count": 77,
     "metadata": {},
     "output_type": "execute_result"
    }
   ],
   "source": [
    "# The intercept is stored in the estimator’s intercept_ attribute\n",
    "linear_regression.intercept_"
   ]
  },
  {
   "cell_type": "markdown",
   "id": "a0e504d0-d0ad-4bdf-b2e4-3c3531b312dc",
   "metadata": {},
   "source": [
    "## Testing the Model"
   ]
  },
  {
   "cell_type": "code",
   "execution_count": 78,
   "id": "f7384470-1c10-45aa-8e74-7ab7230c5cf9",
   "metadata": {},
   "outputs": [],
   "source": [
    "predicted = linear_regression.predict(X_test)"
   ]
  },
  {
   "cell_type": "code",
   "execution_count": 79,
   "id": "61583696-2a0a-4b9d-8d7f-063ba69ef161",
   "metadata": {},
   "outputs": [],
   "source": [
    "expected = y_test"
   ]
  },
  {
   "cell_type": "code",
   "execution_count": 81,
   "id": "a5ca2c63-8afe-4ef9-abe8-cc9bb3a0597d",
   "metadata": {},
   "outputs": [
    {
     "name": "stdout",
     "output_type": "stream",
     "text": [
      "predicted: 37.86, expected: 31.70\n",
      "predicted: 38.69, expected: 34.80\n",
      "predicted: 37.00, expected: 39.40\n",
      "predicted: 37.25, expected: 45.70\n",
      "predicted: 38.05, expected: 32.30\n",
      "predicted: 37.64, expected: 33.80\n",
      "predicted: 36.94, expected: 39.70\n"
     ]
    }
   ],
   "source": [
    "## displaying the predicted and expected values for every fifth element\n",
    "for p, e in zip(predicted[::5], expected[::5]):\n",
    "    print(f'predicted: {p:.2f}, expected: {e:.2f}')"
   ]
  },
  {
   "cell_type": "markdown",
   "id": "690ee3a5-b1b9-4675-aa57-9911d0df6bf9",
   "metadata": {},
   "source": [
    "## Predicting Future Temperatures and Estimating Past Temperatures"
   ]
  },
  {
   "cell_type": "code",
   "execution_count": 82,
   "id": "c78d1dad-3eac-4906-94d9-35e1432ae6de",
   "metadata": {},
   "outputs": [],
   "source": [
    " predict = (lambda x: linear_regression.coef_ * x +\n",
    "            linear_regression.intercept_)"
   ]
  },
  {
   "cell_type": "code",
   "execution_count": 83,
   "id": "33035ed9-8355-417b-88cd-d9c0ea0e161a",
   "metadata": {},
   "outputs": [
    {
     "data": {
      "text/plain": [
       "array([38.84399018])"
      ]
     },
     "execution_count": 83,
     "metadata": {},
     "output_type": "execute_result"
    }
   ],
   "source": [
    "##2019 temp prediction\n",
    "predict(2019)"
   ]
  },
  {
   "cell_type": "code",
   "execution_count": 84,
   "id": "14f16b3c-d0b4-4c33-99e9-365e12028a81",
   "metadata": {},
   "outputs": [
    {
     "data": {
      "text/plain": [
       "array([36.34246432])"
      ]
     },
     "execution_count": 84,
     "metadata": {},
     "output_type": "execute_result"
    }
   ],
   "source": [
    "##1890 temp estimaion\n",
    "predict(1890)"
   ]
  },
  {
   "cell_type": "code",
   "execution_count": 85,
   "id": "ef1da07c-4737-4800-a593-22b44df76efc",
   "metadata": {},
   "outputs": [
    {
     "data": {
      "text/plain": [
       "array([38.97973189])"
      ]
     },
     "execution_count": 85,
     "metadata": {},
     "output_type": "execute_result"
    }
   ],
   "source": [
    "##2026 temp prediction \n",
    "predict(2026)"
   ]
  },
  {
   "cell_type": "markdown",
   "id": "3fee03ec-e2ce-4cce-bfcc-56da2bce1377",
   "metadata": {
    "tags": []
   },
   "source": [
    "## Visualizing the Dataset with the Regression Line"
   ]
  },
  {
   "cell_type": "code",
   "execution_count": 86,
   "id": "64301e49-74c4-46de-9a4a-04ac3ac9364b",
   "metadata": {},
   "outputs": [],
   "source": [
    "import seaborn as sns"
   ]
  },
  {
   "cell_type": "code",
   "execution_count": 95,
   "id": "455324a6-e8c0-4d04-844e-6dff0ea920b1",
   "metadata": {},
   "outputs": [
    {
     "data": {
      "image/png": "[encoded data removed]",
      "text/plain": [
       "<Figure size 640x480 with 1 Axes>"
      ]
     },
     "metadata": {},
     "output_type": "display_data"
    }
   ],
   "source": [
    "axes = sns.scatterplot(data=nyc, x='Date', y='Temperature',\n",
    "                       hue='Temperature', palette='winter', legend=False)\n",
    "axes.set_ylim(10, 70)\n",
    "import numpy as np\n",
    "x = np.array([min(nyc.Date.values), max(nyc.Date.values)])\n",
    "y = predict(x)\n",
    "import matplotlib.pyplot as plt\n",
    "line = plt.plot(x, y)"
   ]
  }
 ],
 "metadata": {
  "kernelspec": {
   "display_name": "Python 3",
   "language": "python",
   "name": "python3"
  },
  "language_info": {
   "codemirror_mode": {
    "name": "ipython",
    "version": 3
   },
   "file_extension": ".py",
   "mimetype": "text/x-python",
   "name": "python",
   "nbconvert_exporter": "python",
   "pygments_lexer": "ipython3",
   "version": "3.11.1"
  },
  "vscode": {
   "interpreter": {
    "hash": "63d9813c7ed66327f3a9d017da8b9941eac9d25c4d7479d93ff309ed5cf4ab85"
   }
  }
 },
 "nbformat": 4,
 "nbformat_minor": 5
}
